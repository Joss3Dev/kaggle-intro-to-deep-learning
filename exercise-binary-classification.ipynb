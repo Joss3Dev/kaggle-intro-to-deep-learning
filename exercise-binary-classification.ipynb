{
 "cells": [
  {
   "cell_type": "markdown",
   "id": "a53f9795",
   "metadata": {
    "papermill": {
     "duration": 0.012981,
     "end_time": "2022-02-05T04:45:02.659375",
     "exception": false,
     "start_time": "2022-02-05T04:45:02.646394",
     "status": "completed"
    },
    "tags": []
   },
   "source": [
    "**This notebook is an exercise in the [Intro to Deep Learning](https://www.kaggle.com/learn/intro-to-deep-learning) course.  You can reference the tutorial at [this link](https://www.kaggle.com/ryanholbrook/binary-classification).**\n",
    "\n",
    "---\n"
   ]
  },
  {
   "cell_type": "markdown",
   "id": "8f3d3eb0",
   "metadata": {
    "papermill": {
     "duration": 0.012337,
     "end_time": "2022-02-05T04:45:02.685262",
     "exception": false,
     "start_time": "2022-02-05T04:45:02.672925",
     "status": "completed"
    },
    "tags": []
   },
   "source": [
    "# Introduction #\n",
    "\n",
    "In this exercise, you'll build a model to predict hotel cancellations with a binary classifier."
   ]
  },
  {
   "cell_type": "code",
   "execution_count": 1,
   "id": "e57d68ff",
   "metadata": {
    "execution": {
     "iopub.execute_input": "2022-02-05T04:45:02.715449Z",
     "iopub.status.busy": "2022-02-05T04:45:02.713669Z",
     "iopub.status.idle": "2022-02-05T04:45:02.765965Z",
     "shell.execute_reply": "2022-02-05T04:45:02.766655Z",
     "shell.execute_reply.started": "2022-02-05T04:32:24.694227Z"
    },
    "lines_to_next_cell": 0,
    "papermill": {
     "duration": 0.069794,
     "end_time": "2022-02-05T04:45:02.767060",
     "exception": false,
     "start_time": "2022-02-05T04:45:02.697266",
     "status": "completed"
    },
    "tags": []
   },
   "outputs": [],
   "source": [
    "# Setup plotting\n",
    "import matplotlib.pyplot as plt\n",
    "plt.style.use('seaborn-whitegrid')\n",
    "# Set Matplotlib defaults\n",
    "plt.rc('figure', autolayout=True)\n",
    "plt.rc('axes', labelweight='bold', labelsize='large',\n",
    "       titleweight='bold', titlesize=18, titlepad=10)\n",
    "plt.rc('animation', html='html5')\n",
    "\n",
    "# Setup feedback system\n",
    "from learntools.core import binder\n",
    "binder.bind(globals())\n",
    "from learntools.deep_learning_intro.ex6 import *"
   ]
  },
  {
   "cell_type": "markdown",
   "id": "bbbae9e0",
   "metadata": {
    "papermill": {
     "duration": 0.0123,
     "end_time": "2022-02-05T04:45:02.791693",
     "exception": false,
     "start_time": "2022-02-05T04:45:02.779393",
     "status": "completed"
    },
    "tags": []
   },
   "source": [
    "First, load the *Hotel Cancellations* dataset."
   ]
  },
  {
   "cell_type": "code",
   "execution_count": 2,
   "id": "c39fe058",
   "metadata": {
    "execution": {
     "iopub.execute_input": "2022-02-05T04:45:02.825103Z",
     "iopub.status.busy": "2022-02-05T04:45:02.824248Z",
     "iopub.status.idle": "2022-02-05T04:45:05.578276Z",
     "shell.execute_reply": "2022-02-05T04:45:05.578762Z",
     "shell.execute_reply.started": "2022-02-05T04:33:09.691333Z"
    },
    "lines_to_next_cell": 2,
    "papermill": {
     "duration": 2.775211,
     "end_time": "2022-02-05T04:45:05.578940",
     "exception": false,
     "start_time": "2022-02-05T04:45:02.803729",
     "status": "completed"
    },
    "tags": []
   },
   "outputs": [],
   "source": [
    "import pandas as pd\n",
    "\n",
    "from sklearn.model_selection import train_test_split\n",
    "from sklearn.preprocessing import StandardScaler, OneHotEncoder\n",
    "from sklearn.impute import SimpleImputer\n",
    "from sklearn.pipeline import make_pipeline\n",
    "from sklearn.compose import make_column_transformer\n",
    "\n",
    "hotel = pd.read_csv('../input/dl-course-data/hotel.csv')\n",
    "\n",
    "X = hotel.copy()\n",
    "y = X.pop('is_canceled')\n",
    "\n",
    "X['arrival_date_month'] = \\\n",
    "    X['arrival_date_month'].map(\n",
    "        {'January':1, 'February': 2, 'March':3,\n",
    "         'April':4, 'May':5, 'June':6, 'July':7,\n",
    "         'August':8, 'September':9, 'October':10,\n",
    "         'November':11, 'December':12}\n",
    "    )\n",
    "\n",
    "features_num = [\n",
    "    \"lead_time\", \"arrival_date_week_number\",\n",
    "    \"arrival_date_day_of_month\", \"stays_in_weekend_nights\",\n",
    "    \"stays_in_week_nights\", \"adults\", \"children\", \"babies\",\n",
    "    \"is_repeated_guest\", \"previous_cancellations\",\n",
    "    \"previous_bookings_not_canceled\", \"required_car_parking_spaces\",\n",
    "    \"total_of_special_requests\", \"adr\",\n",
    "]\n",
    "features_cat = [\n",
    "    \"hotel\", \"arrival_date_month\", \"meal\",\n",
    "    \"market_segment\", \"distribution_channel\",\n",
    "    \"reserved_room_type\", \"deposit_type\", \"customer_type\",\n",
    "]\n",
    "\n",
    "transformer_num = make_pipeline(\n",
    "    SimpleImputer(strategy=\"constant\"), # there are a few missing values\n",
    "    StandardScaler(),\n",
    ")\n",
    "transformer_cat = make_pipeline(\n",
    "    SimpleImputer(strategy=\"constant\", fill_value=\"NA\"),\n",
    "    OneHotEncoder(handle_unknown='ignore'),\n",
    ")\n",
    "\n",
    "preprocessor = make_column_transformer(\n",
    "    (transformer_num, features_num),\n",
    "    (transformer_cat, features_cat),\n",
    ")\n",
    "\n",
    "# stratify - make sure classes are evenlly represented across splits\n",
    "X_train, X_valid, y_train, y_valid = \\\n",
    "    train_test_split(X, y, stratify=y, train_size=0.75)\n",
    "\n",
    "X_train = preprocessor.fit_transform(X_train)\n",
    "X_valid = preprocessor.transform(X_valid)\n",
    "\n",
    "input_shape = [X_train.shape[1]]"
   ]
  },
  {
   "cell_type": "markdown",
   "id": "06392628",
   "metadata": {
    "papermill": {
     "duration": 0.010617,
     "end_time": "2022-02-05T04:45:05.601783",
     "exception": false,
     "start_time": "2022-02-05T04:45:05.591166",
     "status": "completed"
    },
    "tags": []
   },
   "source": [
    "# 1) Define Model #\n",
    "\n",
    "The model we'll use this time will have both batch normalization and dropout layers. To ease reading we've broken the diagram into blocks, but you can define it layer by layer as usual.\n",
    "\n",
    "Define a model with an architecture given by this diagram:\n",
    "\n",
    "<figure style=\"padding: 1em;\">\n",
    "<img src=\"https://i.imgur.com/V04o59Z.png\" width=\"400\" alt=\"Diagram of network architecture: BatchNorm, Dense, BatchNorm, Dropout, Dense, BatchNorm, Dropout, Dense.\">\n",
    "<figcaption style=\"textalign: center; font-style: italic\"><center>Diagram of a binary classifier.</center></figcaption>\n",
    "</figure>\n"
   ]
  },
  {
   "cell_type": "code",
   "execution_count": 3,
   "id": "221e682e",
   "metadata": {
    "execution": {
     "iopub.execute_input": "2022-02-05T04:45:05.630241Z",
     "iopub.status.busy": "2022-02-05T04:45:05.629517Z",
     "iopub.status.idle": "2022-02-05T04:45:11.328686Z",
     "shell.execute_reply": "2022-02-05T04:45:11.329394Z",
     "shell.execute_reply.started": "2022-02-05T04:37:00.986572Z"
    },
    "lines_to_next_cell": 2,
    "papermill": {
     "duration": 5.716853,
     "end_time": "2022-02-05T04:45:11.329598",
     "exception": false,
     "start_time": "2022-02-05T04:45:05.612745",
     "status": "completed"
    },
    "tags": []
   },
   "outputs": [
    {
     "name": "stderr",
     "output_type": "stream",
     "text": [
      "\n",
      "User settings:\n",
      "\n",
      "   KMP_AFFINITY=granularity=fine,noverbose,compact,1,0\n",
      "   KMP_BLOCKTIME=0\n",
      "   KMP_DUPLICATE_LIB_OK=True\n",
      "   KMP_INIT_AT_FORK=FALSE\n",
      "   KMP_SETTINGS=1\n",
      "   KMP_WARNINGS=0\n",
      "\n",
      "Effective settings:\n",
      "\n",
      "   KMP_ABORT_DELAY=0\n",
      "   KMP_ADAPTIVE_LOCK_PROPS='1,1024'\n",
      "   KMP_ALIGN_ALLOC=64\n",
      "   KMP_ALL_THREADPRIVATE=128\n",
      "   KMP_ATOMIC_MODE=2\n",
      "   KMP_BLOCKTIME=0\n",
      "   KMP_CPUINFO_FILE: value is not defined\n",
      "   KMP_DETERMINISTIC_REDUCTION=false\n",
      "   KMP_DEVICE_THREAD_LIMIT=2147483647\n",
      "   KMP_DISP_NUM_BUFFERS=7\n",
      "   KMP_DUPLICATE_LIB_OK=true\n",
      "   KMP_ENABLE_TASK_THROTTLING=true\n",
      "   KMP_FORCE_REDUCTION: value is not defined\n",
      "   KMP_FOREIGN_THREADS_THREADPRIVATE=true\n",
      "   KMP_FORKJOIN_BARRIER='2,2'\n",
      "   KMP_FORKJOIN_BARRIER_PATTERN='hyper,hyper'\n",
      "   KMP_GTID_MODE=3\n",
      "   KMP_HANDLE_SIGNALS=false\n",
      "   KMP_HOT_TEAMS_MAX_LEVEL=1\n",
      "   KMP_HOT_TEAMS_MODE=0\n",
      "   KMP_INIT_AT_FORK=true\n",
      "   KMP_LIBRARY=throughput\n",
      "   KMP_LOCK_KIND=queuing\n",
      "   KMP_MALLOC_POOL_INCR=1M\n",
      "   KMP_NUM_LOCKS_IN_BLOCK=1\n",
      "   KMP_PLAIN_BARRIER='2,2'\n",
      "   KMP_PLAIN_BARRIER_PATTERN='hyper,hyper'\n",
      "   KMP_REDUCTION_BARRIER='1,1'\n",
      "   KMP_REDUCTION_BARRIER_PATTERN='hyper,hyper'\n",
      "   KMP_SCHEDULE='static,balanced;guided,iterative'\n",
      "   KMP_SETTINGS=true\n",
      "   KMP_SPIN_BACKOFF_PARAMS='4096,100'\n",
      "   KMP_STACKOFFSET=64\n",
      "   KMP_STACKPAD=0\n",
      "   KMP_STACKSIZE=8M\n",
      "   KMP_STORAGE_MAP=false\n",
      "   KMP_TASKING=2\n",
      "   KMP_TASKLOOP_MIN_TASKS=0\n",
      "   KMP_TASK_STEALING_CONSTRAINT=1\n",
      "   KMP_TEAMS_THREAD_LIMIT=4\n",
      "   KMP_TOPOLOGY_METHOD=all\n",
      "   KMP_USE_YIELD=1\n",
      "   KMP_VERSION=false\n",
      "   KMP_WARNINGS=false\n",
      "   OMP_AFFINITY_FORMAT='OMP: pid %P tid %i thread %n bound to OS proc set {%A}'\n",
      "   OMP_ALLOCATOR=omp_default_mem_alloc\n",
      "   OMP_CANCELLATION=false\n",
      "   OMP_DEFAULT_DEVICE=0\n",
      "   OMP_DISPLAY_AFFINITY=false\n",
      "   OMP_DISPLAY_ENV=false\n",
      "   OMP_DYNAMIC=false\n",
      "   OMP_MAX_ACTIVE_LEVELS=1\n",
      "   OMP_MAX_TASK_PRIORITY=0\n",
      "   OMP_NESTED: deprecated; max-active-levels-var=1\n",
      "   OMP_NUM_THREADS: value is not defined\n",
      "   OMP_PLACES: value is not defined\n",
      "   OMP_PROC_BIND='intel'\n",
      "   OMP_SCHEDULE='static'\n",
      "   OMP_STACKSIZE=8M\n",
      "   OMP_TARGET_OFFLOAD=DEFAULT\n",
      "   OMP_THREAD_LIMIT=2147483647\n",
      "   OMP_WAIT_POLICY=PASSIVE\n",
      "   KMP_AFFINITY='noverbose,warnings,respect,granularity=fine,compact,1,0'\n",
      "\n",
      "2022-02-05 04:45:11.206867: I tensorflow/core/common_runtime/process_util.cc:146] Creating new thread pool with default inter op setting: 2. Tune using inter_op_parallelism_threads for best performance.\n"
     ]
    },
    {
     "data": {
      "application/javascript": [
       "parent.postMessage({\"jupyterEvent\": \"custom.exercise_interaction\", \"data\": {\"outcomeType\": 1, \"valueTowardsCompletion\": 0.3333333333333333, \"interactionType\": 1, \"questionType\": 2, \"questionId\": \"1_Q1\", \"learnToolsVersion\": \"0.3.4\", \"failureMessage\": \"\", \"exceptionClass\": \"\", \"trace\": \"\"}}, \"*\")"
      ],
      "text/plain": [
       "<IPython.core.display.Javascript object>"
      ]
     },
     "metadata": {},
     "output_type": "display_data"
    },
    {
     "data": {
      "text/markdown": [
       "<span style=\"color:#33cc33\">Correct</span>"
      ],
      "text/plain": [
       "Correct"
      ]
     },
     "metadata": {},
     "output_type": "display_data"
    }
   ],
   "source": [
    "from tensorflow import keras\n",
    "from tensorflow.keras import layers\n",
    "\n",
    "# YOUR CODE HERE: define the model given in the diagram\n",
    "model = keras.Sequential([\n",
    "    layers.BatchNormalization(input_shape=input_shape),\n",
    "    layers.Dense(256, activation='relu'),\n",
    "    layers.BatchNormalization(),\n",
    "    layers.Dropout(0.3),\n",
    "    layers.Dense(256, activation='relu'),\n",
    "    layers.BatchNormalization(),\n",
    "    layers.Dropout(0.3),\n",
    "    layers.Dense(1, activation='sigmoid')\n",
    "])\n",
    "\n",
    "# Check your answer\n",
    "q_1.check()"
   ]
  },
  {
   "cell_type": "markdown",
   "id": "90347b32",
   "metadata": {
    "papermill": {
     "duration": 0.012252,
     "end_time": "2022-02-05T04:45:11.354968",
     "exception": false,
     "start_time": "2022-02-05T04:45:11.342716",
     "status": "completed"
    },
    "tags": []
   },
   "source": [
    "# 2) Add Optimizer, Loss, and Metric #\n",
    "\n",
    "Now compile the model with the Adam optimizer and binary versions of the cross-entropy loss and accuracy metric."
   ]
  },
  {
   "cell_type": "code",
   "execution_count": 4,
   "id": "b007ddb2",
   "metadata": {
    "execution": {
     "iopub.execute_input": "2022-02-05T04:45:11.384135Z",
     "iopub.status.busy": "2022-02-05T04:45:11.383445Z",
     "iopub.status.idle": "2022-02-05T04:45:11.399505Z",
     "shell.execute_reply": "2022-02-05T04:45:11.400126Z",
     "shell.execute_reply.started": "2022-02-05T04:38:32.743918Z"
    },
    "lines_to_next_cell": 0,
    "papermill": {
     "duration": 0.032605,
     "end_time": "2022-02-05T04:45:11.400290",
     "exception": false,
     "start_time": "2022-02-05T04:45:11.367685",
     "status": "completed"
    },
    "tags": []
   },
   "outputs": [
    {
     "data": {
      "application/javascript": [
       "parent.postMessage({\"jupyterEvent\": \"custom.exercise_interaction\", \"data\": {\"outcomeType\": 1, \"valueTowardsCompletion\": 0.3333333333333333, \"interactionType\": 1, \"questionType\": 2, \"questionId\": \"2_Q2\", \"learnToolsVersion\": \"0.3.4\", \"failureMessage\": \"\", \"exceptionClass\": \"\", \"trace\": \"\"}}, \"*\")"
      ],
      "text/plain": [
       "<IPython.core.display.Javascript object>"
      ]
     },
     "metadata": {},
     "output_type": "display_data"
    },
    {
     "data": {
      "text/markdown": [
       "<span style=\"color:#33cc33\">Correct</span>"
      ],
      "text/plain": [
       "Correct"
      ]
     },
     "metadata": {},
     "output_type": "display_data"
    }
   ],
   "source": [
    "# YOUR CODE HERE\n",
    "model.compile(\n",
    "    optimizer='adam',\n",
    "    loss='binary_crossentropy',\n",
    "    metrics=['binary_accuracy']\n",
    ")\n",
    "\n",
    "# Check your answer\n",
    "q_2.check()"
   ]
  },
  {
   "cell_type": "code",
   "execution_count": 5,
   "id": "9e9272ad",
   "metadata": {
    "execution": {
     "iopub.execute_input": "2022-02-05T04:45:11.430237Z",
     "iopub.status.busy": "2022-02-05T04:45:11.429556Z",
     "iopub.status.idle": "2022-02-05T04:45:11.432168Z",
     "shell.execute_reply": "2022-02-05T04:45:11.432721Z"
    },
    "lines_to_next_cell": 0,
    "papermill": {
     "duration": 0.01935,
     "end_time": "2022-02-05T04:45:11.432913",
     "exception": false,
     "start_time": "2022-02-05T04:45:11.413563",
     "status": "completed"
    },
    "tags": []
   },
   "outputs": [],
   "source": [
    "# Lines below will give you a hint or solution code\n",
    "#q_2.hint()\n",
    "#q_2.solution()"
   ]
  },
  {
   "cell_type": "markdown",
   "id": "d937767e",
   "metadata": {
    "papermill": {
     "duration": 0.013314,
     "end_time": "2022-02-05T04:45:11.459889",
     "exception": false,
     "start_time": "2022-02-05T04:45:11.446575",
     "status": "completed"
    },
    "tags": []
   },
   "source": [
    "Finally, run this cell to train the model and view the learning curves. It may run for around 60 to 70 epochs, which could take a minute or two."
   ]
  },
  {
   "cell_type": "code",
   "execution_count": 6,
   "id": "07185ad3",
   "metadata": {
    "execution": {
     "iopub.execute_input": "2022-02-05T04:45:11.490139Z",
     "iopub.status.busy": "2022-02-05T04:45:11.489482Z",
     "iopub.status.idle": "2022-02-05T04:47:35.462612Z",
     "shell.execute_reply": "2022-02-05T04:47:35.463198Z",
     "shell.execute_reply.started": "2022-02-05T04:38:41.216865Z"
    },
    "papermill": {
     "duration": 143.989842,
     "end_time": "2022-02-05T04:47:35.463408",
     "exception": false,
     "start_time": "2022-02-05T04:45:11.473566",
     "status": "completed"
    },
    "tags": []
   },
   "outputs": [
    {
     "name": "stderr",
     "output_type": "stream",
     "text": [
      "2022-02-05 04:45:11.599397: I tensorflow/compiler/mlir/mlir_graph_optimization_pass.cc:185] None of the MLIR Optimization Passes are enabled (registered 2)\n"
     ]
    },
    {
     "name": "stdout",
     "output_type": "stream",
     "text": [
      "Epoch 1/200\n",
      "175/175 [==============================] - 5s 18ms/step - loss: 0.4884 - binary_accuracy: 0.7671 - val_loss: 0.4313 - val_binary_accuracy: 0.8017\n",
      "Epoch 2/200\n",
      "175/175 [==============================] - 2s 13ms/step - loss: 0.4240 - binary_accuracy: 0.7992 - val_loss: 0.4034 - val_binary_accuracy: 0.8148\n",
      "Epoch 3/200\n",
      "175/175 [==============================] - 2s 13ms/step - loss: 0.4097 - binary_accuracy: 0.8073 - val_loss: 0.3954 - val_binary_accuracy: 0.8164\n",
      "Epoch 4/200\n",
      "175/175 [==============================] - 2s 13ms/step - loss: 0.4019 - binary_accuracy: 0.8112 - val_loss: 0.3917 - val_binary_accuracy: 0.8199\n",
      "Epoch 5/200\n",
      "175/175 [==============================] - 2s 14ms/step - loss: 0.3967 - binary_accuracy: 0.8143 - val_loss: 0.3893 - val_binary_accuracy: 0.8199\n",
      "Epoch 6/200\n",
      "175/175 [==============================] - 2s 13ms/step - loss: 0.3921 - binary_accuracy: 0.8159 - val_loss: 0.3855 - val_binary_accuracy: 0.8243\n",
      "Epoch 7/200\n",
      "175/175 [==============================] - 2s 13ms/step - loss: 0.3884 - binary_accuracy: 0.8181 - val_loss: 0.3828 - val_binary_accuracy: 0.8262\n",
      "Epoch 8/200\n",
      "175/175 [==============================] - 2s 13ms/step - loss: 0.3860 - binary_accuracy: 0.8196 - val_loss: 0.3775 - val_binary_accuracy: 0.8276\n",
      "Epoch 9/200\n",
      "175/175 [==============================] - 2s 14ms/step - loss: 0.3823 - binary_accuracy: 0.8219 - val_loss: 0.3754 - val_binary_accuracy: 0.8285\n",
      "Epoch 10/200\n",
      "175/175 [==============================] - 2s 13ms/step - loss: 0.3803 - binary_accuracy: 0.8233 - val_loss: 0.3734 - val_binary_accuracy: 0.8315\n",
      "Epoch 11/200\n",
      "175/175 [==============================] - 2s 13ms/step - loss: 0.3774 - binary_accuracy: 0.8252 - val_loss: 0.3726 - val_binary_accuracy: 0.8304\n",
      "Epoch 12/200\n",
      "175/175 [==============================] - 2s 14ms/step - loss: 0.3743 - binary_accuracy: 0.8264 - val_loss: 0.3688 - val_binary_accuracy: 0.8329\n",
      "Epoch 13/200\n",
      "175/175 [==============================] - 2s 13ms/step - loss: 0.3723 - binary_accuracy: 0.8271 - val_loss: 0.3710 - val_binary_accuracy: 0.8303\n",
      "Epoch 14/200\n",
      "175/175 [==============================] - 3s 17ms/step - loss: 0.3710 - binary_accuracy: 0.8275 - val_loss: 0.3687 - val_binary_accuracy: 0.8339\n",
      "Epoch 15/200\n",
      "175/175 [==============================] - 2s 13ms/step - loss: 0.3681 - binary_accuracy: 0.8299 - val_loss: 0.3640 - val_binary_accuracy: 0.8353\n",
      "Epoch 16/200\n",
      "175/175 [==============================] - 2s 13ms/step - loss: 0.3667 - binary_accuracy: 0.8300 - val_loss: 0.3636 - val_binary_accuracy: 0.8354\n",
      "Epoch 17/200\n",
      "175/175 [==============================] - 2s 13ms/step - loss: 0.3656 - binary_accuracy: 0.8304 - val_loss: 0.3626 - val_binary_accuracy: 0.8349\n",
      "Epoch 18/200\n",
      "175/175 [==============================] - 2s 13ms/step - loss: 0.3639 - binary_accuracy: 0.8316 - val_loss: 0.3649 - val_binary_accuracy: 0.8334\n",
      "Epoch 19/200\n",
      "175/175 [==============================] - 2s 13ms/step - loss: 0.3620 - binary_accuracy: 0.8332 - val_loss: 0.3612 - val_binary_accuracy: 0.8366\n",
      "Epoch 20/200\n",
      "175/175 [==============================] - 2s 13ms/step - loss: 0.3607 - binary_accuracy: 0.8338 - val_loss: 0.3615 - val_binary_accuracy: 0.8362\n",
      "Epoch 21/200\n",
      "175/175 [==============================] - 2s 13ms/step - loss: 0.3580 - binary_accuracy: 0.8341 - val_loss: 0.3579 - val_binary_accuracy: 0.8377\n",
      "Epoch 22/200\n",
      "175/175 [==============================] - 2s 13ms/step - loss: 0.3576 - binary_accuracy: 0.8344 - val_loss: 0.3580 - val_binary_accuracy: 0.8374\n",
      "Epoch 23/200\n",
      "175/175 [==============================] - 2s 13ms/step - loss: 0.3557 - binary_accuracy: 0.8349 - val_loss: 0.3575 - val_binary_accuracy: 0.8353\n",
      "Epoch 24/200\n",
      "175/175 [==============================] - 2s 13ms/step - loss: 0.3551 - binary_accuracy: 0.8348 - val_loss: 0.3560 - val_binary_accuracy: 0.8377\n",
      "Epoch 25/200\n",
      "175/175 [==============================] - 2s 14ms/step - loss: 0.3546 - binary_accuracy: 0.8367 - val_loss: 0.3571 - val_binary_accuracy: 0.8374\n",
      "Epoch 26/200\n",
      "175/175 [==============================] - 2s 13ms/step - loss: 0.3539 - binary_accuracy: 0.8347 - val_loss: 0.3543 - val_binary_accuracy: 0.8396\n",
      "Epoch 27/200\n",
      "175/175 [==============================] - 2s 13ms/step - loss: 0.3520 - binary_accuracy: 0.8376 - val_loss: 0.3528 - val_binary_accuracy: 0.8390\n",
      "Epoch 28/200\n",
      "175/175 [==============================] - 3s 17ms/step - loss: 0.3496 - binary_accuracy: 0.8393 - val_loss: 0.3537 - val_binary_accuracy: 0.8379\n",
      "Epoch 29/200\n",
      "175/175 [==============================] - 2s 14ms/step - loss: 0.3505 - binary_accuracy: 0.8380 - val_loss: 0.3527 - val_binary_accuracy: 0.8400\n",
      "Epoch 30/200\n",
      "175/175 [==============================] - 2s 13ms/step - loss: 0.3486 - binary_accuracy: 0.8383 - val_loss: 0.3525 - val_binary_accuracy: 0.8396\n",
      "Epoch 31/200\n",
      "175/175 [==============================] - 2s 13ms/step - loss: 0.3474 - binary_accuracy: 0.8401 - val_loss: 0.3513 - val_binary_accuracy: 0.8406\n",
      "Epoch 32/200\n",
      "175/175 [==============================] - 2s 13ms/step - loss: 0.3459 - binary_accuracy: 0.8400 - val_loss: 0.3532 - val_binary_accuracy: 0.8388\n",
      "Epoch 33/200\n",
      "175/175 [==============================] - 2s 14ms/step - loss: 0.3453 - binary_accuracy: 0.8407 - val_loss: 0.3514 - val_binary_accuracy: 0.8406\n",
      "Epoch 34/200\n",
      "175/175 [==============================] - 2s 13ms/step - loss: 0.3448 - binary_accuracy: 0.8409 - val_loss: 0.3516 - val_binary_accuracy: 0.8392\n",
      "Epoch 35/200\n",
      "175/175 [==============================] - 2s 13ms/step - loss: 0.3438 - binary_accuracy: 0.8413 - val_loss: 0.3514 - val_binary_accuracy: 0.8406\n",
      "Epoch 36/200\n",
      "175/175 [==============================] - 2s 13ms/step - loss: 0.3439 - binary_accuracy: 0.8406 - val_loss: 0.3499 - val_binary_accuracy: 0.8421\n",
      "Epoch 37/200\n",
      "175/175 [==============================] - 2s 13ms/step - loss: 0.3420 - binary_accuracy: 0.8414 - val_loss: 0.3508 - val_binary_accuracy: 0.8406\n",
      "Epoch 38/200\n",
      "175/175 [==============================] - 2s 14ms/step - loss: 0.3409 - binary_accuracy: 0.8424 - val_loss: 0.3495 - val_binary_accuracy: 0.8424\n",
      "Epoch 39/200\n",
      "175/175 [==============================] - 2s 13ms/step - loss: 0.3405 - binary_accuracy: 0.8422 - val_loss: 0.3512 - val_binary_accuracy: 0.8415\n",
      "Epoch 40/200\n",
      "175/175 [==============================] - 2s 13ms/step - loss: 0.3386 - binary_accuracy: 0.8426 - val_loss: 0.3485 - val_binary_accuracy: 0.8429\n",
      "Epoch 41/200\n",
      "175/175 [==============================] - 3s 17ms/step - loss: 0.3403 - binary_accuracy: 0.8432 - val_loss: 0.3523 - val_binary_accuracy: 0.8403\n",
      "Epoch 42/200\n",
      "175/175 [==============================] - 2s 14ms/step - loss: 0.3383 - binary_accuracy: 0.8448 - val_loss: 0.3490 - val_binary_accuracy: 0.8412\n",
      "Epoch 43/200\n",
      "175/175 [==============================] - 2s 13ms/step - loss: 0.3383 - binary_accuracy: 0.8437 - val_loss: 0.3484 - val_binary_accuracy: 0.8416\n",
      "Epoch 44/200\n",
      "175/175 [==============================] - 2s 13ms/step - loss: 0.3364 - binary_accuracy: 0.8444 - val_loss: 0.3476 - val_binary_accuracy: 0.8432\n",
      "Epoch 45/200\n",
      "175/175 [==============================] - 2s 13ms/step - loss: 0.3360 - binary_accuracy: 0.8456 - val_loss: 0.3471 - val_binary_accuracy: 0.8426\n",
      "Epoch 46/200\n",
      "175/175 [==============================] - 2s 13ms/step - loss: 0.3354 - binary_accuracy: 0.8441 - val_loss: 0.3474 - val_binary_accuracy: 0.8421\n",
      "Epoch 47/200\n",
      "175/175 [==============================] - 2s 13ms/step - loss: 0.3342 - binary_accuracy: 0.8465 - val_loss: 0.3468 - val_binary_accuracy: 0.8426\n",
      "Epoch 48/200\n",
      "175/175 [==============================] - 2s 13ms/step - loss: 0.3345 - binary_accuracy: 0.8457 - val_loss: 0.3463 - val_binary_accuracy: 0.8433\n",
      "Epoch 49/200\n",
      "175/175 [==============================] - 2s 13ms/step - loss: 0.3340 - binary_accuracy: 0.8468 - val_loss: 0.3453 - val_binary_accuracy: 0.8440\n",
      "Epoch 50/200\n",
      "175/175 [==============================] - 2s 13ms/step - loss: 0.3331 - binary_accuracy: 0.8469 - val_loss: 0.3480 - val_binary_accuracy: 0.8430\n",
      "Epoch 51/200\n",
      "175/175 [==============================] - 2s 14ms/step - loss: 0.3336 - binary_accuracy: 0.8455 - val_loss: 0.3470 - val_binary_accuracy: 0.8431\n",
      "Epoch 52/200\n",
      "175/175 [==============================] - 2s 13ms/step - loss: 0.3316 - binary_accuracy: 0.8480 - val_loss: 0.3460 - val_binary_accuracy: 0.8442\n",
      "Epoch 53/200\n",
      "175/175 [==============================] - 2s 13ms/step - loss: 0.3313 - binary_accuracy: 0.8478 - val_loss: 0.3456 - val_binary_accuracy: 0.8416\n",
      "Epoch 54/200\n",
      "175/175 [==============================] - 2s 13ms/step - loss: 0.3303 - binary_accuracy: 0.8477 - val_loss: 0.3456 - val_binary_accuracy: 0.8449\n"
     ]
    },
    {
     "data": {
      "text/plain": [
       "<AxesSubplot:title={'center':'Accuracy'}>"
      ]
     },
     "execution_count": 6,
     "metadata": {},
     "output_type": "execute_result"
    },
    {
     "data": {
      "image/png": "[encoded data removed]",
      "text/plain": [
       "<Figure size 432x288 with 1 Axes>"
      ]
     },
     "metadata": {},
     "output_type": "display_data"
    },
    {
     "data": {
      "image/png": "[encoded data removed]",
      "text/plain": [
       "<Figure size 432x288 with 1 Axes>"
      ]
     },
     "metadata": {},
     "output_type": "display_data"
    }
   ],
   "source": [
    "early_stopping = keras.callbacks.EarlyStopping(\n",
    "    patience=5,\n",
    "    min_delta=0.001,\n",
    "    restore_best_weights=True,\n",
    ")\n",
    "history = model.fit(\n",
    "    X_train, y_train,\n",
    "    validation_data=(X_valid, y_valid),\n",
    "    batch_size=512,\n",
    "    epochs=200,\n",
    "    callbacks=[early_stopping],\n",
    ")\n",
    "\n",
    "history_df = pd.DataFrame(history.history)\n",
    "history_df.loc[:, ['loss', 'val_loss']].plot(title=\"Cross-entropy\")\n",
    "history_df.loc[:, ['binary_accuracy', 'val_binary_accuracy']].plot(title=\"Accuracy\")"
   ]
  },
  {
   "cell_type": "markdown",
   "id": "2a77f15a",
   "metadata": {
    "papermill": {
     "duration": 0.65515,
     "end_time": "2022-02-05T04:47:36.803608",
     "exception": false,
     "start_time": "2022-02-05T04:47:36.148458",
     "status": "completed"
    },
    "tags": []
   },
   "source": [
    "# 3) Train and Evaluate #\n",
    "\n",
    "\n",
    "What do you think about the learning curves? Does it look like the model underfit or overfit? Was the cross-entropy loss a good stand-in for accuracy?"
   ]
  },
  {
   "cell_type": "code",
   "execution_count": 7,
   "id": "543b3036",
   "metadata": {
    "execution": {
     "iopub.execute_input": "2022-02-05T04:47:38.122284Z",
     "iopub.status.busy": "2022-02-05T04:47:38.121645Z",
     "iopub.status.idle": "2022-02-05T04:47:38.127376Z",
     "shell.execute_reply": "2022-02-05T04:47:38.127962Z",
     "shell.execute_reply.started": "2022-02-05T04:42:18.363385Z"
    },
    "papermill": {
     "duration": 0.666325,
     "end_time": "2022-02-05T04:47:38.128147",
     "exception": false,
     "start_time": "2022-02-05T04:47:37.461822",
     "status": "completed"
    },
    "tags": []
   },
   "outputs": [
    {
     "data": {
      "application/javascript": [
       "parent.postMessage({\"jupyterEvent\": \"custom.exercise_interaction\", \"data\": {\"outcomeType\": 1, \"valueTowardsCompletion\": 0.3333333333333333, \"interactionType\": 1, \"questionType\": 4, \"questionId\": \"3_Q3\", \"learnToolsVersion\": \"0.3.4\", \"failureMessage\": \"\", \"exceptionClass\": \"\", \"trace\": \"\"}}, \"*\")"
      ],
      "text/plain": [
       "<IPython.core.display.Javascript object>"
      ]
     },
     "metadata": {},
     "output_type": "display_data"
    },
    {
     "data": {
      "text/markdown": [
       "<span style=\"color:#33cc33\">Correct:</span> \n",
       "\n",
       "Though we can see the training loss continuing to fall, the early stopping callback prevented any overfitting. Moreover, the accuracy rose at the same rate as the cross-entropy fell, so it appears that minimizing cross-entropy was a good stand-in. All in all, it looks like this training was a success!"
      ],
      "text/plain": [
       "Correct: \n",
       "\n",
       "Though we can see the training loss continuing to fall, the early stopping callback prevented any overfitting. Moreover, the accuracy rose at the same rate as the cross-entropy fell, so it appears that minimizing cross-entropy was a good stand-in. All in all, it looks like this training was a success!"
      ]
     },
     "metadata": {},
     "output_type": "display_data"
    }
   ],
   "source": [
    "# View the solution (Run this cell to receive credit!)\n",
    "q_3.check()"
   ]
  },
  {
   "cell_type": "markdown",
   "id": "cbf3cd3e",
   "metadata": {
    "papermill": {
     "duration": 0.663074,
     "end_time": "2022-02-05T04:47:39.451158",
     "exception": false,
     "start_time": "2022-02-05T04:47:38.788084",
     "status": "completed"
    },
    "tags": []
   },
   "source": [
    "# Conclusion #\n",
    "\n",
    "Congratulations! You've completed Kaggle's *Introduction to Deep Learning* course!\n",
    "\n",
    "With your new skills you're ready to take on more advanced applications like computer vision and sentiment classification. What would you like to do next?\n",
    "\n",
    "Why not try one of our *Getting Started* competitions?\n",
    "\n",
    "- Classify images with TPUs in [**Petals to the Metal**](https://www.kaggle.com/c/tpu-getting-started)\n",
    "- Create art with GANs in [**I'm Something of a Painter Myself**](https://www.kaggle.com/c/gan-getting-started)\n",
    "- Classify Tweets in [**Real or Not? NLP with Disaster Tweets**](https://www.kaggle.com/c/nlp-getting-started)\n",
    "- Detect contradiction and entailment in [**Contradictory, My Dear Watson**](https://www.kaggle.com/c/contradictory-my-dear-watson)\n",
    "\n",
    "Until next time, Kagglers!"
   ]
  },
  {
   "cell_type": "markdown",
   "id": "0effa710",
   "metadata": {
    "papermill": {
     "duration": 0.659085,
     "end_time": "2022-02-05T04:47:40.772280",
     "exception": false,
     "start_time": "2022-02-05T04:47:40.113195",
     "status": "completed"
    },
    "tags": []
   },
   "source": [
    "---\n",
    "\n",
    "\n",
    "\n",
    "\n",
    "*Have questions or comments? Visit the [course discussion forum](https://www.kaggle.com/learn/intro-to-deep-learning/discussion) to chat with other learners.*"
   ]
  }
 ],
 "metadata": {
  "kernelspec": {
   "display_name": "Python 3",
   "language": "python",
   "name": "python3"
  },
  "language_info": {
   "codemirror_mode": {
    "name": "ipython",
    "version": 3
   },
   "file_extension": ".py",
   "mimetype": "text/x-python",
   "name": "python",
   "nbconvert_exporter": "python",
   "pygments_lexer": "ipython3",
   "version": "3.7.12"
  },
  "papermill": {
   "default_parameters": {},
   "duration": 171.816099,
   "end_time": "2022-02-05T04:47:44.277299",
   "environment_variables": {},
   "exception": null,
   "input_path": "__notebook__.ipynb",
   "output_path": "__notebook__.ipynb",
   "parameters": {},
   "start_time": "2022-02-05T04:44:52.461200",
   "version": "2.3.3"
  }
 },
 "nbformat": 4,
 "nbformat_minor": 5
}
